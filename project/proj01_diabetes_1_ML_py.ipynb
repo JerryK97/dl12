{
  "nbformat": 4,
  "nbformat_minor": 0,
  "metadata": {
    "colab": {
      "provenance": [],
      "authorship_tag": "ABX9TyOYajrbnfJGQeUMDm1dj+ay",
      "include_colab_link": true
    },
    "kernelspec": {
      "name": "python3",
      "display_name": "Python 3"
    },
    "language_info": {
      "name": "python"
    }
  },
  "cells": [
    {
      "cell_type": "markdown",
      "metadata": {
        "id": "view-in-github",
        "colab_type": "text"
      },
      "source": [
        "<a href=\"https://colab.research.google.com/github/JerryK97/dl12/blob/main/project/proj01_diabetes_1_ML_py.ipynb\" target=\"_parent\"><img src=\"https://colab.research.google.com/assets/colab-badge.svg\" alt=\"Open In Colab\"/></a>"
      ]
    },
    {
      "cell_type": "code",
      "execution_count": null,
      "metadata": {
        "id": "UByX_j5B7FGT"
      },
      "outputs": [],
      "source": [
        "from sklearn.datasets import load_diabetes\n",
        "from sklearn.preprocessing import StandardScaler\n",
        "from sklearn.model_selection import train_test_split\n",
        "from sklearn.neural_network import MLPRegressor\n",
        "\n",
        "# Load the diabetes dataset\n",
        "diabetes = load_diabetes()\n",
        "\n",
        "# Preprocess the data\n",
        "X = StandardScaler().fit_transform(diabetes.data)\n",
        "y = diabetes.target\n",
        "\n",
        "# Split the data into training and testing sets\n",
        "X_train, X_test, y_train, y_test = train_test_split(X, y, test_size=0.2, random_state=42)\n",
        "\n",
        "# Create an MLP model\n",
        "mlp = MLPRegressor(hidden_layer_sizes=(16, 8), max_iter=1000)\n",
        "\n",
        "# Train the model\n",
        "mlp.fit(X_train, y_train)\n",
        "\n",
        "# Evaluate the model\n",
        "score = mlp.score(X_test, y_test)\n",
        "print(\"R^2 score:\", score)\n",
        "\n",
        "# R^2 score: 0.46150686623228765, hidden_layer_sizes=(16, 8)\n",
        "# R^2 score: 0.4380976292446448, hidden_layer_sizes=(16, 8)\n",
        "# R^2 score: 0.47201385144961695, hidden_layer_sizes=(100, 50)\n",
        "# R^2 score: 0.48616233328458436, hidden_layer_sizes=(100, 50)"
      ]
    }
  ]
}