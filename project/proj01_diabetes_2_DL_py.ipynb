{
  "nbformat": 4,
  "nbformat_minor": 0,
  "metadata": {
    "colab": {
      "provenance": [],
      "authorship_tag": "ABX9TyNmG2+r2aXKM4bFt6agzoWi",
      "include_colab_link": true
    },
    "kernelspec": {
      "name": "python3",
      "display_name": "Python 3"
    },
    "language_info": {
      "name": "python"
    }
  },
  "cells": [
    {
      "cell_type": "markdown",
      "metadata": {
        "id": "view-in-github",
        "colab_type": "text"
      },
      "source": [
        "<a href=\"https://colab.research.google.com/github/JerryK97/dl12/blob/main/project/proj01_diabetes_2_DL_py.ipynb\" target=\"_parent\"><img src=\"https://colab.research.google.com/assets/colab-badge.svg\" alt=\"Open In Colab\"/></a>"
      ]
    },
    {
      "cell_type": "code",
      "execution_count": null,
      "metadata": {
        "id": "2d6jgw1c6yj7"
      },
      "outputs": [],
      "source": [
        "from sklearn.datasets import load_diabetes\n",
        "from sklearn.preprocessing import StandardScaler\n",
        "from sklearn.model_selection import train_test_split\n",
        "from sklearn.metrics import r2_score\n",
        "from keras.models import Sequential\n",
        "from keras.layers import Dense\n",
        "\n",
        "# Load data\n",
        "diabetes = load_diabetes()\n",
        "# Preprocess the data\n",
        "X = StandardScaler().fit_transform(diabetes.data)\n",
        "y = diabetes.target\n",
        "\n",
        "# Split the data into training and testing sets\n",
        "X_train, X_test, y_train, y_test = train_test_split(X, y, test_size=0.2, random_state=42)\n",
        "\n",
        "\n",
        "# Build model\n",
        "model = Sequential()\n",
        "model.add(Dense(16, activation='relu', input_dim=X.shape[1]))\n",
        "model.add(Dense(8, activation='relu'))\n",
        "model.add(Dense(1, activation='linear'))\n",
        "\n",
        "# Compile model\n",
        "model.compile(loss='mse', optimizer='adam')\n",
        "\n",
        "# Train model\n",
        "model.fit(X_train, y_train, epochs=200, batch_size=10, validation_split=0.2)\n",
        "\n",
        "# Evaluate model\n",
        "y_pred = model.predict(X_test)  #, y_test)\n",
        "score = r2_score(y_test, y_pred)\n",
        "print(\"R^2 score:\", score)\n",
        "# R^2 score: 0.4121845510590546\n",
        "# R^2 score: 0.4787058293145606\n",
        "# R^2 score: 0.5015287710964408"
      ]
    }
  ]
}