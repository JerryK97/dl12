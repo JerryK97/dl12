{
  "nbformat": 4,
  "nbformat_minor": 0,
  "metadata": {
    "colab": {
      "provenance": [],
      "authorship_tag": "ABX9TyNl//odCS8og8spzf0YE95u",
      "include_colab_link": true
    },
    "kernelspec": {
      "name": "python3",
      "display_name": "Python 3"
    },
    "language_info": {
      "name": "python"
    }
  },
  "cells": [
    {
      "cell_type": "markdown",
      "metadata": {
        "id": "view-in-github",
        "colab_type": "text"
      },
      "source": [
        "<a href=\"https://colab.research.google.com/github/JerryK97/dl12/blob/main/notebook/ch07_dataset_hyperparameter.ipynb\" target=\"_parent\"><img src=\"https://colab.research.google.com/assets/colab-badge.svg\" alt=\"Open In Colab\"/></a>"
      ]
    },
    {
      "cell_type": "markdown",
      "source": [
        "# Datasets\n",
        "\n",
        "# Hyperparameter selection"
      ],
      "metadata": {
        "id": "q7-Jr6JrGKOf"
      }
    },
    {
      "cell_type": "code",
      "execution_count": 2,
      "metadata": {
        "colab": {
          "base_uri": "https://localhost:8080/"
        },
        "id": "WJDVTsUcF0Tf",
        "outputId": "b4227e8d-9348-41db-b821-3aeceb4772db"
      },
      "outputs": [
        {
          "output_type": "execute_result",
          "data": {
            "text/plain": [
              "((3, 2, 3), 3, dtype('int64'))"
            ]
          },
          "metadata": {},
          "execution_count": 2
        }
      ],
      "source": [
        "# dataset\n",
        "import numpy as np\n",
        "\n",
        "array = np.array([[[1, 2, 3], [4, 5, 6]],\n",
        "                  [[7, 8, 9], [10, 11, 12]],\n",
        "                  [[13, 14, 15], [16, 17, 18]]])\n",
        "array.shape, array.ndim, array.dtype"
      ]
    },
    {
      "cell_type": "code",
      "source": [
        "arr1 = np.empty((3, 4, 5, 6))\n",
        "arr1.shape, arr1.ndim"
      ],
      "metadata": {
        "colab": {
          "base_uri": "https://localhost:8080/"
        },
        "id": "GBjUZTebGf4z",
        "outputId": "ad3cf4f8-8798-4062-8b5f-38e56a7106f1"
      },
      "execution_count": 4,
      "outputs": [
        {
          "output_type": "execute_result",
          "data": {
            "text/plain": [
              "((3, 4, 5, 6), 4)"
            ]
          },
          "metadata": {},
          "execution_count": 4
        }
      ]
    },
    {
      "cell_type": "code",
      "source": [
        "# vector records\n",
        "arr2 = np.random.randn(500, 8)\n",
        "arr2.shape, arr2.ndim"
      ],
      "metadata": {
        "colab": {
          "base_uri": "https://localhost:8080/"
        },
        "id": "mJar_OLpG3ol",
        "outputId": "473b8f9b-0f41-4536-e445-8e22b5714407"
      },
      "execution_count": 5,
      "outputs": [
        {
          "output_type": "execute_result",
          "data": {
            "text/plain": [
              "((500, 8), 2)"
            ]
          },
          "metadata": {},
          "execution_count": 5
        }
      ]
    },
    {
      "cell_type": "code",
      "source": [
        "# color images\n",
        "arr3 = np.empty((60000, 28, 28, 3))\n",
        "arr3.shape"
      ],
      "metadata": {
        "colab": {
          "base_uri": "https://localhost:8080/"
        },
        "id": "UHNBpQBCHB8B",
        "outputId": "64b6421a-1a99-42f7-a0e7-a05c04918003"
      },
      "execution_count": 6,
      "outputs": [
        {
          "output_type": "execute_result",
          "data": {
            "text/plain": [
              "(60000, 28, 28, 3)"
            ]
          },
          "metadata": {},
          "execution_count": 6
        }
      ]
    },
    {
      "cell_type": "code",
      "source": [
        "# time series\n",
        "arr4 = np.random.randn(20, 365, 4)\n",
        "arr4.shape"
      ],
      "metadata": {
        "colab": {
          "base_uri": "https://localhost:8080/"
        },
        "id": "Lfrv1Gs8Hc2r",
        "outputId": "46c82f45-1f67-48cb-f171-1eaebe70cc96"
      },
      "execution_count": 7,
      "outputs": [
        {
          "output_type": "execute_result",
          "data": {
            "text/plain": [
              "(20, 365, 4)"
            ]
          },
          "metadata": {},
          "execution_count": 7
        }
      ]
    },
    {
      "cell_type": "markdown",
      "source": [
        "---\n",
        "---"
      ],
      "metadata": {
        "id": "etAkBR1sHfoc"
      }
    },
    {
      "cell_type": "markdown",
      "source": [
        "# Hyperparameter search\n",
        "- epochs\n",
        "- batch-size"
      ],
      "metadata": {
        "id": "GoCbA-0LPOMJ"
      }
    },
    {
      "cell_type": "code",
      "source": [
        "!pip install scikeras"
      ],
      "metadata": {
        "colab": {
          "base_uri": "https://localhost:8080/"
        },
        "id": "y3KhnUXjPfhL",
        "outputId": "fb7d6d05-e21f-44ac-8e53-ddb20c27fda9"
      },
      "execution_count": 15,
      "outputs": [
        {
          "output_type": "stream",
          "name": "stdout",
          "text": [
            "Looking in indexes: https://pypi.org/simple, https://us-python.pkg.dev/colab-wheels/public/simple/\n",
            "Collecting scikeras\n",
            "  Downloading scikeras-0.10.0-py3-none-any.whl (27 kB)\n",
            "Requirement already satisfied: scikit-learn>=1.0.0 in /usr/local/lib/python3.10/dist-packages (from scikeras) (1.2.2)\n",
            "Requirement already satisfied: packaging>=0.21 in /usr/local/lib/python3.10/dist-packages (from scikeras) (23.1)\n",
            "Requirement already satisfied: scipy>=1.3.2 in /usr/local/lib/python3.10/dist-packages (from scikit-learn>=1.0.0->scikeras) (1.10.1)\n",
            "Requirement already satisfied: joblib>=1.1.1 in /usr/local/lib/python3.10/dist-packages (from scikit-learn>=1.0.0->scikeras) (1.2.0)\n",
            "Requirement already satisfied: numpy>=1.17.3 in /usr/local/lib/python3.10/dist-packages (from scikit-learn>=1.0.0->scikeras) (1.22.4)\n",
            "Requirement already satisfied: threadpoolctl>=2.0.0 in /usr/local/lib/python3.10/dist-packages (from scikit-learn>=1.0.0->scikeras) (3.1.0)\n",
            "Installing collected packages: scikeras\n",
            "Successfully installed scikeras-0.10.0\n"
          ]
        }
      ]
    },
    {
      "cell_type": "code",
      "source": [
        "# import numpy as np \n",
        "# import matplotlib.pyplot as plt \n",
        "import tensorflow as tf\n",
        "from sklearn.model_selection import GridSearchCV\n",
        "# from tensorflow.keras.wrappers.scikit_learn import KerasClassifier\n",
        "from scikeras.wrappers import KerasClassifier\n",
        "# OS warning cure\n",
        "import os\n",
        "os.environ['TF_CPP_MIN_LOG_LEVEL'] = '3'\n",
        "\n",
        "# 데이터 세트 준비\n",
        "(train_images, train_labels), (test_images, test_labels) = tf.keras.datasets.mnist.load_data()\n",
        "\n",
        "train_images = train_images.reshape((60000, 28 * 28))\n",
        "train_images = train_images.astype('float32') / 255\n",
        "\n",
        "test_images = test_images.reshape((10000, 28 * 28))\n",
        "test_images = test_images.astype('float32') / 255\n",
        "\n",
        "train_labels = tf.keras.utils.to_categorical(train_labels)\n",
        "test_labels = tf.keras.utils.to_categorical(test_labels)\n",
        "                             \n",
        "# 신경망 모델 구축\n",
        "def build_model():\n",
        "    network = tf.keras.models.Sequential()\n",
        "    network.add(tf.keras.layers.Dense(512, activation='relu', input_shape=(28 * 28,)))\n",
        "    network.add(tf.keras.layers.Dense(10, activation='sigmoid'))\n",
        "\n",
        "    network.compile(optimizer='rmsprop',\n",
        "                loss='categorical_crossentropy',\n",
        "                metrics=['accuracy'])\n",
        "    return network\n",
        "\n",
        "# 하이퍼 매개변수 딕셔너리\n",
        "param_grid = {\n",
        "              'epochs':[1, 2, 3],\t# 에포크 수: 1, 2, 3\n",
        "              'batch_size':[32, 64, 100]\t# 배치 크기: 32, 64, 100\n",
        "             }\n",
        "\n",
        "# 케라스 모델을 scikeras에서 사용하도록 포장한다. \n",
        "model = KerasClassifier(model = build_model, verbose=1)\n",
        "\n",
        "## Elapsed time start\n",
        "import time\n",
        "start = time.time()\n",
        "\n",
        "# 그리드 검색\n",
        "gs = GridSearchCV(\n",
        "    estimator=model,\n",
        "    param_grid=param_grid, \n",
        "    cv=3, \n",
        "    # n_jobs=-1 # comment this line to avoid out-of-memory\n",
        ")\n",
        "\n",
        "# 그리드 검색 결과 출력\n",
        "grid_result = gs.fit(train_images, train_labels)\n",
        "\n",
        "## Elapsed time end\n",
        "end = time.time()\n",
        "print('Elapsed time:', end - start) # Elapsed time: 122.5, 189.5\n",
        "\n",
        "print(grid_result.best_score_) # 0.9725, 0.9711\n",
        "print(grid_result.best_params_) # {'batch_size': 64, 'epochs': 3}"
      ],
      "metadata": {
        "colab": {
          "base_uri": "https://localhost:8080/"
        },
        "id": "TKtqi1xmPWQa",
        "outputId": "eadbb478-8c86-47f5-cfdd-5ce6b2bdfae8"
      },
      "execution_count": 17,
      "outputs": [
        {
          "output_type": "stream",
          "name": "stdout",
          "text": [
            "1250/1250 [==============================] - 10s 7ms/step - loss: 0.2418 - accuracy: 0.9271\n",
            "625/625 [==============================] - 2s 3ms/step\n",
            "1250/1250 [==============================] - 10s 7ms/step - loss: 0.2408 - accuracy: 0.9297\n",
            "625/625 [==============================] - 2s 3ms/step\n",
            "1250/1250 [==============================] - 9s 7ms/step - loss: 0.2382 - accuracy: 0.9301\n",
            "625/625 [==============================] - 2s 3ms/step\n",
            "Epoch 1/2\n",
            "1250/1250 [==============================] - 11s 9ms/step - loss: 0.2398 - accuracy: 0.9287\n",
            "Epoch 2/2\n",
            "1250/1250 [==============================] - 8s 7ms/step - loss: 0.1032 - accuracy: 0.9689\n",
            "625/625 [==============================] - 2s 3ms/step\n",
            "Epoch 1/2\n",
            "1250/1250 [==============================] - 9s 7ms/step - loss: 0.2383 - accuracy: 0.9301\n",
            "Epoch 2/2\n",
            "1250/1250 [==============================] - 8s 7ms/step - loss: 0.1009 - accuracy: 0.9698\n",
            "625/625 [==============================] - 2s 3ms/step\n",
            "Epoch 1/2\n",
            "1250/1250 [==============================] - 9s 7ms/step - loss: 0.2361 - accuracy: 0.9315\n",
            "Epoch 2/2\n",
            "1250/1250 [==============================] - 9s 7ms/step - loss: 0.0976 - accuracy: 0.9711\n",
            "625/625 [==============================] - 2s 2ms/step\n",
            "Epoch 1/3\n",
            "1250/1250 [==============================] - 10s 8ms/step - loss: 0.2412 - accuracy: 0.9286\n",
            "Epoch 2/3\n",
            "1250/1250 [==============================] - 8s 7ms/step - loss: 0.1027 - accuracy: 0.9690\n",
            "Epoch 3/3\n",
            "1250/1250 [==============================] - 9s 7ms/step - loss: 0.0677 - accuracy: 0.9794\n",
            "625/625 [==============================] - 2s 3ms/step\n",
            "Epoch 1/3\n",
            "1250/1250 [==============================] - 10s 7ms/step - loss: 0.2404 - accuracy: 0.9300\n",
            "Epoch 2/3\n",
            "1250/1250 [==============================] - 9s 7ms/step - loss: 0.1001 - accuracy: 0.9704\n",
            "Epoch 3/3\n",
            "1250/1250 [==============================] - 8s 6ms/step - loss: 0.0666 - accuracy: 0.9793\n",
            "625/625 [==============================] - 2s 3ms/step\n",
            "Epoch 1/3\n",
            "1250/1250 [==============================] - 9s 7ms/step - loss: 0.2404 - accuracy: 0.9298\n",
            "Epoch 2/3\n",
            "1250/1250 [==============================] - 9s 7ms/step - loss: 0.0990 - accuracy: 0.9702\n",
            "Epoch 3/3\n",
            "1250/1250 [==============================] - 9s 7ms/step - loss: 0.0664 - accuracy: 0.9801\n",
            "625/625 [==============================] - 2s 2ms/step\n",
            "625/625 [==============================] - 5s 8ms/step - loss: 0.2688 - accuracy: 0.9207\n",
            "313/313 [==============================] - 1s 3ms/step\n",
            "625/625 [==============================] - 6s 9ms/step - loss: 0.2659 - accuracy: 0.9233\n",
            "313/313 [==============================] - 1s 3ms/step\n",
            "625/625 [==============================] - 5s 7ms/step - loss: 0.2673 - accuracy: 0.9217\n",
            "313/313 [==============================] - 1s 4ms/step\n",
            "Epoch 1/2\n",
            "625/625 [==============================] - 5s 7ms/step - loss: 0.2728 - accuracy: 0.9189\n",
            "Epoch 2/2\n",
            "625/625 [==============================] - 5s 8ms/step - loss: 0.1122 - accuracy: 0.9669\n",
            "313/313 [==============================] - 2s 5ms/step\n",
            "Epoch 1/2\n",
            "625/625 [==============================] - 5s 7ms/step - loss: 0.2679 - accuracy: 0.9219\n",
            "Epoch 2/2\n",
            "625/625 [==============================] - 5s 7ms/step - loss: 0.1123 - accuracy: 0.9659\n",
            "313/313 [==============================] - 1s 4ms/step\n",
            "Epoch 1/2\n",
            "625/625 [==============================] - 5s 7ms/step - loss: 0.2675 - accuracy: 0.9226\n",
            "Epoch 2/2\n",
            "625/625 [==============================] - 5s 8ms/step - loss: 0.1122 - accuracy: 0.9669\n",
            "313/313 [==============================] - 1s 4ms/step\n",
            "Epoch 1/3\n",
            "625/625 [==============================] - 5s 8ms/step - loss: 0.2682 - accuracy: 0.9219\n",
            "Epoch 2/3\n",
            "625/625 [==============================] - 5s 8ms/step - loss: 0.1126 - accuracy: 0.9664\n",
            "Epoch 3/3\n",
            "625/625 [==============================] - 6s 9ms/step - loss: 0.0745 - accuracy: 0.9772\n",
            "313/313 [==============================] - 1s 3ms/step\n",
            "Epoch 1/3\n",
            "625/625 [==============================] - 5s 7ms/step - loss: 0.2620 - accuracy: 0.9243\n",
            "Epoch 2/3\n",
            "625/625 [==============================] - 6s 9ms/step - loss: 0.1116 - accuracy: 0.9662\n",
            "Epoch 3/3\n",
            "625/625 [==============================] - 5s 7ms/step - loss: 0.0721 - accuracy: 0.9785\n",
            "313/313 [==============================] - 1s 3ms/step\n",
            "Epoch 1/3\n",
            "625/625 [==============================] - 6s 9ms/step - loss: 0.2663 - accuracy: 0.9226\n",
            "Epoch 2/3\n",
            "625/625 [==============================] - 5s 7ms/step - loss: 0.1082 - accuracy: 0.9676\n",
            "Epoch 3/3\n",
            "625/625 [==============================] - 5s 8ms/step - loss: 0.0704 - accuracy: 0.9787\n",
            "313/313 [==============================] - 1s 3ms/step\n",
            "400/400 [==============================] - 4s 9ms/step - loss: 0.3013 - accuracy: 0.9116\n",
            "200/200 [==============================] - 1s 5ms/step\n",
            "400/400 [==============================] - 5s 9ms/step - loss: 0.2902 - accuracy: 0.9174\n",
            "200/200 [==============================] - 1s 4ms/step\n",
            "400/400 [==============================] - 9s 22ms/step - loss: 0.2992 - accuracy: 0.9137\n",
            "200/200 [==============================] - 1s 4ms/step\n",
            "Epoch 1/2\n",
            "400/400 [==============================] - 4s 9ms/step - loss: 0.2965 - accuracy: 0.9139\n",
            "Epoch 2/2\n",
            "400/400 [==============================] - 4s 10ms/step - loss: 0.1284 - accuracy: 0.9623\n",
            "200/200 [==============================] - 1s 7ms/step\n",
            "Epoch 1/2\n",
            "400/400 [==============================] - 4s 9ms/step - loss: 0.2929 - accuracy: 0.9153\n",
            "Epoch 2/2\n",
            "400/400 [==============================] - 4s 9ms/step - loss: 0.1254 - accuracy: 0.9633\n",
            "200/200 [==============================] - 1s 4ms/step\n",
            "Epoch 1/2\n",
            "400/400 [==============================] - 5s 11ms/step - loss: 0.2934 - accuracy: 0.9156\n",
            "Epoch 2/2\n",
            "400/400 [==============================] - 4s 9ms/step - loss: 0.1215 - accuracy: 0.9648\n",
            "200/200 [==============================] - 1s 4ms/step\n",
            "Epoch 1/3\n",
            "400/400 [==============================] - 5s 10ms/step - loss: 0.3012 - accuracy: 0.9112\n",
            "Epoch 2/3\n",
            "400/400 [==============================] - 4s 10ms/step - loss: 0.1258 - accuracy: 0.9644\n",
            "Epoch 3/3\n",
            "400/400 [==============================] - 4s 9ms/step - loss: 0.0821 - accuracy: 0.9759\n",
            "200/200 [==============================] - 1s 4ms/step\n",
            "Epoch 1/3\n",
            "400/400 [==============================] - 4s 9ms/step - loss: 0.2897 - accuracy: 0.9172\n",
            "Epoch 2/3\n",
            "400/400 [==============================] - 5s 12ms/step - loss: 0.1237 - accuracy: 0.9639\n",
            "Epoch 3/3\n",
            "400/400 [==============================] - 4s 9ms/step - loss: 0.0794 - accuracy: 0.9761\n",
            "200/200 [==============================] - 1s 4ms/step\n",
            "Epoch 1/3\n",
            "400/400 [==============================] - 4s 9ms/step - loss: 0.2947 - accuracy: 0.9161\n",
            "Epoch 2/3\n",
            "400/400 [==============================] - 5s 12ms/step - loss: 0.1211 - accuracy: 0.9646\n",
            "Epoch 3/3\n",
            "400/400 [==============================] - 4s 9ms/step - loss: 0.0782 - accuracy: 0.9768\n",
            "200/200 [==============================] - 1s 4ms/step\n",
            "Epoch 1/3\n",
            "938/938 [==============================] - 8s 8ms/step - loss: 0.2243 - accuracy: 0.9339\n",
            "Epoch 2/3\n",
            "938/938 [==============================] - 8s 9ms/step - loss: 0.0904 - accuracy: 0.9728\n",
            "Epoch 3/3\n",
            "938/938 [==============================] - 8s 8ms/step - loss: 0.0593 - accuracy: 0.9817\n",
            "Elapsed time: 470.82399249076843\n",
            "0.9699166666666666\n",
            "{'batch_size': 64, 'epochs': 3}\n"
          ]
        }
      ]
    }
  ]
}