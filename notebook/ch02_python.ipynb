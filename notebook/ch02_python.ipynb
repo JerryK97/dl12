{
  "nbformat": 4,
  "nbformat_minor": 0,
  "metadata": {
    "colab": {
      "provenance": [],
      "authorship_tag": "ABX9TyP34QINjfWdgN7APiV/Jq0j",
      "include_colab_link": true
    },
    "kernelspec": {
      "name": "python3",
      "display_name": "Python 3"
    },
    "language_info": {
      "name": "python"
    }
  },
  "cells": [
    {
      "cell_type": "markdown",
      "metadata": {
        "id": "view-in-github",
        "colab_type": "text"
      },
      "source": [
        "<a href=\"https://colab.research.google.com/github/JerryK97/dl12/blob/main/notebook/ch02_python.ipynb\" target=\"_parent\"><img src=\"https://colab.research.google.com/assets/colab-badge.svg\" alt=\"Open In Colab\"/></a>"
      ]
    },
    {
      "cell_type": "markdown",
      "source": [
        "# ch02_python.ipynb\n",
        "## dl12\n",
        "- 파이썬 복습"
      ],
      "metadata": {
        "id": "qOaEznITzjQ3"
      }
    },
    {
      "cell_type": "code",
      "execution_count": 10,
      "metadata": {
        "id": "ZzHnJY7Ny47X",
        "colab": {
          "base_uri": "https://localhost:8080/"
        },
        "outputId": "b17a8ba1-2bd0-4a99-c818-725c79f50f00"
      },
      "outputs": [
        {
          "output_type": "stream",
          "name": "stdout",
          "text": [
            "314.0\n"
          ]
        },
        {
          "output_type": "execute_result",
          "data": {
            "text/plain": [
              "314.0"
            ]
          },
          "metadata": {},
          "execution_count": 10
        }
      ],
      "source": [
        "# cap02 - python basics\n",
        "#\n",
        "print(3.14 * 10 * 10 )\n",
        "\n",
        "3.14 * 10**2"
      ]
    },
    {
      "cell_type": "code",
      "source": [
        "print(type(10))\n",
        "\n",
        "print(type(3.14))\n",
        "\n",
        "type(\"python\")"
      ],
      "metadata": {
        "colab": {
          "base_uri": "https://localhost:8080/"
        },
        "id": "lnlfcX_h01j8",
        "outputId": "8246d200-e1bc-4b67-8c04-550f8a2cc7d1"
      },
      "execution_count": 11,
      "outputs": [
        {
          "output_type": "stream",
          "name": "stdout",
          "text": [
            "<class 'int'>\n",
            "<class 'float'>\n"
          ]
        },
        {
          "output_type": "execute_result",
          "data": {
            "text/plain": [
              "str"
            ]
          },
          "metadata": {},
          "execution_count": 11
        }
      ]
    },
    {
      "cell_type": "code",
      "source": [
        "r = 20\n",
        "\n",
        "PI = 3.14\t\t# 원주율 정의\n",
        "\n",
        "area = PI * r**2\n",
        "\n",
        "area"
      ],
      "metadata": {
        "colab": {
          "base_uri": "https://localhost:8080/"
        },
        "id": "_bSR7r0709t4",
        "outputId": "bd7a31be-5d65-4077-ba12-d03b6407e6f5"
      },
      "execution_count": 12,
      "outputs": [
        {
          "output_type": "execute_result",
          "data": {
            "text/plain": [
              "1256.0"
            ]
          },
          "metadata": {},
          "execution_count": 12
        }
      ]
    },
    {
      "cell_type": "code",
      "source": [
        "# list\n",
        "lst = [ 10, 20, 30, 40, 50]\t\t# 리스트 정의\n",
        "\n",
        "lst"
      ],
      "metadata": {
        "colab": {
          "base_uri": "https://localhost:8080/"
        },
        "id": "DyCq513Y1Bzp",
        "outputId": "99cf9222-f6ba-409a-d582-f2cbfb663eb0"
      },
      "execution_count": 13,
      "outputs": [
        {
          "output_type": "execute_result",
          "data": {
            "text/plain": [
              "[10, 20, 30, 40, 50]"
            ]
          },
          "metadata": {},
          "execution_count": 13
        }
      ]
    },
    {
      "cell_type": "code",
      "source": [
        "# indexing & slicing\n",
        "print(lst[2]) \t\t\t\t# 리스트의 요소 접근\n",
        "\n",
        "lst[2] = 90\t\t\t# 세 번째 요소를 90으로 변경\n",
        "\n",
        "print(lst)\n",
        "\n",
        "print(len(lst))\n",
        "\n",
        "lst, len(lst)"
      ],
      "metadata": {
        "colab": {
          "base_uri": "https://localhost:8080/"
        },
        "id": "kx1oCJIX1HxH",
        "outputId": "362a04a9-92e5-4cf7-bedf-e992f010c8df"
      },
      "execution_count": 14,
      "outputs": [
        {
          "output_type": "stream",
          "name": "stdout",
          "text": [
            "30\n",
            "[10, 20, 90, 40, 50]\n",
            "5\n"
          ]
        },
        {
          "output_type": "execute_result",
          "data": {
            "text/plain": [
              "([10, 20, 90, 40, 50], 5)"
            ]
          },
          "metadata": {},
          "execution_count": 14
        }
      ]
    },
    {
      "cell_type": "code",
      "source": [
        "#slicing\n",
        "print(lst[0:3])\n",
        "\n",
        "print(lst[2:])\n",
        "\n",
        "print(lst[:3])\n",
        "\n",
        "print(lst[:-1])"
      ],
      "metadata": {
        "colab": {
          "base_uri": "https://localhost:8080/"
        },
        "id": "3f2nlAe01K9P",
        "outputId": "aa322d62-3fd2-442f-e51b-eb91f8bb5205"
      },
      "execution_count": 15,
      "outputs": [
        {
          "output_type": "stream",
          "name": "stdout",
          "text": [
            "[10, 20, 90]\n",
            "[90, 40, 50]\n",
            "[10, 20, 90]\n",
            "[10, 20, 90, 40]\n"
          ]
        }
      ]
    },
    {
      "cell_type": "code",
      "source": [
        "# dictionary\n",
        "car = { 'HP':200, 'make': \"BNW\" }\t# 딕셔너리 정의\n",
        "\n",
        "print(car['HP'])\n",
        "\n",
        "car['color'] = \"white\"\n",
        "\n",
        "car"
      ],
      "metadata": {
        "colab": {
          "base_uri": "https://localhost:8080/"
        },
        "id": "IY293uxW1NG3",
        "outputId": "42180cd8-2eda-480c-d937-a5934c720e0c"
      },
      "execution_count": 16,
      "outputs": [
        {
          "output_type": "stream",
          "name": "stdout",
          "text": [
            "200\n"
          ]
        },
        {
          "output_type": "execute_result",
          "data": {
            "text/plain": [
              "{'HP': 200, 'make': 'BNW', 'color': 'white'}"
            ]
          },
          "metadata": {},
          "execution_count": 16
        }
      ]
    },
    {
      "cell_type": "code",
      "source": [
        "# Conditional\n",
        "temp = -10\n",
        "\n",
        "if temp < 0 :\n",
        "    print(\"영하입니다.\")\t\n",
        "else:\n",
        "    print(\"영상입니다.\")"
      ],
      "metadata": {
        "colab": {
          "base_uri": "https://localhost:8080/"
        },
        "id": "OMxo_09N1PIv",
        "outputId": "df1bbc7b-5014-4b0f-fbf7-c67be2e9fed5"
      },
      "execution_count": 17,
      "outputs": [
        {
          "output_type": "stream",
          "name": "stdout",
          "text": [
            "영하입니다.\n"
          ]
        }
      ]
    },
    {
      "cell_type": "code",
      "source": [
        "# loop\n",
        "for i in [1, 2, 3, 4, 5] :\n",
        "    print(i, end=\" \")"
      ],
      "metadata": {
        "colab": {
          "base_uri": "https://localhost:8080/"
        },
        "id": "FA_soOxs2J7W",
        "outputId": "444ac672-e1f1-46f3-95df-fdfbb9d4ffbd"
      },
      "execution_count": 18,
      "outputs": [
        {
          "output_type": "stream",
          "name": "stdout",
          "text": [
            "1 2 3 4 5 "
          ]
        }
      ]
    },
    {
      "cell_type": "code",
      "source": [
        "# function\n",
        "def sayHello():\n",
        "    print(\"Hello!\")\n",
        "\n",
        "sayHello()"
      ],
      "metadata": {
        "colab": {
          "base_uri": "https://localhost:8080/"
        },
        "id": "bFPixvQy2L6H",
        "outputId": "859155c3-c536-44d4-98b0-1ff59e2ba530"
      },
      "execution_count": 19,
      "outputs": [
        {
          "output_type": "stream",
          "name": "stdout",
          "text": [
            "Hello!\n"
          ]
        }
      ]
    },
    {
      "cell_type": "code",
      "source": [
        "# class\n",
        "class Person:\n",
        "  def __init__(self, name, age):\n",
        "    self.name = name\n",
        "    self.age = age\n",
        "\n",
        "  def sayHello(self):\n",
        "    print(\"Hello 나의 이름은 \" + self.name)\n",
        "\n",
        "p1 = Person(\"John\", 36)\n",
        "p1.sayHello()"
      ],
      "metadata": {
        "colab": {
          "base_uri": "https://localhost:8080/"
        },
        "id": "brgTj7iH2NlP",
        "outputId": "9e68a439-d122-473a-c1f0-faecb41fa6d5"
      },
      "execution_count": 20,
      "outputs": [
        {
          "output_type": "stream",
          "name": "stdout",
          "text": [
            "Hello 나의 이름은 John\n"
          ]
        }
      ]
    },
    {
      "cell_type": "code",
      "source": [
        "# [DIY] 이름과 나이를 다 출력하게 코드를 변경하시오.\n",
        "#################################################\n",
        "class Person:\n",
        "    def __init__(self, name, age):\n",
        "        self.name = name\n",
        "        self.age = age\n",
        "\n",
        "    def sayHello(self):\n",
        "        print(\"Hello! 나의 이름은 \" + self.name + \"이고, 나이는 \" + str(self.age) + \"살입니다.\")\n",
        "\n",
        "p1 = Person(\"김민혁\", 27)\n",
        "p1.sayHello()"
      ],
      "metadata": {
        "colab": {
          "base_uri": "https://localhost:8080/"
        },
        "id": "M5MhDJG22QVf",
        "outputId": "c28694d9-0286-493f-8ceb-462216d393a4"
      },
      "execution_count": 21,
      "outputs": [
        {
          "output_type": "stream",
          "name": "stdout",
          "text": [
            "Hello! 나의 이름은 김민혁이고, 나이는 27살입니다.\n"
          ]
        }
      ]
    }
  ]
}